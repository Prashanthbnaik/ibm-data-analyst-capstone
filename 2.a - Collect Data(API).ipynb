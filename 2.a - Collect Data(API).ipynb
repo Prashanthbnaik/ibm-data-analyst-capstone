{
 "cells": [
  {
   "cell_type": "markdown",
   "id": "b188e4b9-0cea-48ca-97d5-d91ab2075b6c",
   "metadata": {},
   "source": [
    "# Collecting Data Using a Mock Jobs API\n",
    "\n",
    "This section outlines the process of collecting job posting data through a locally hosted mock Jobs API. The API is built using Flask and simulates real-world endpoints commonly used in job market analytics.\n",
    "\n",
    "## Objective:\n",
    "- Collect job data through a mock API endpoint\n",
    "- Store the retrieved data in a structured format for further analysis\n",
    "\n",
    "### Setup Instructions:\n",
    "## Hosting the Mock API Locally\n",
    "\n",
    "To run the API simulation, you must first download and host the Flask-based mock Jobs API. This setup enables retrieval of job posting data in a structured format through HTTP requests.\n",
    "\n",
    "### Instructions:\n",
    "\n",
    "1. **Download the API Notebook**  \n",
    "   Access the `Jobs_API.ipynb` notebook from the following link:  \n",
    "   [Jobs_API.ipynb](https://cf-courses-data.s3.us.cloud-object-storage.appdomain.cloud/IBM-DA0321EN-SkillsNetwork/labs/module%201/Accessing%20Data%20Using%20APIs/Jobs_API.ipynb)\n",
    "\n",
    "2. **Upload the Notebook**  \n",
    "   Upload the notebook into your current Jupyter environment using the “Upload” button.  \n",
    "   > Ensure the file is stored in the same directory as your working `.ipynb` file.\n",
    "\n",
    "   If you are using a **local Jupyter environment**, follow the same upload procedure within your local interface:\n",
    "\n",
    "   ![Upload Instructions](https://cf-courses-data.s3.us.cloud-object-storage.appdomain.cloud/IBM-DA0321EN-SkillsNetwork/labs/module%201/Accessing%20Data%20Using%20APIs/Upload.PNG)\n",
    "\n",
    "3. **Start the Flask API Server**  \n",
    "   Open the uploaded `Jobs_API.ipynb` notebook and execute all cells.  \n",
    "   Once the Flask server is active, a local API endpoint URL will be displayed. This URL can now be used to fetch data.\n",
    "\n",
    "> Optional: To better understand how the Flask framework operates, refer to the [Flask API documentation](https://cf-courses-data.s3.us.cloud-object-storage.appdomain.cloud/IBM-DA0321EN-SkillsNetwork/labs/module%201/Accessing%20Data%20Using%20APIs/FLASK_API.md.html).\n",
    "\n",
    "Once the API is running, proceed to request and retrieve job data for use in the next step of the project.\n",
    "\n",
    "\n",
    "\n",
    "\n"
   ]
  },
  {
   "cell_type": "markdown",
   "id": "42db78da-7cee-45d6-9a3f-24ea7759b9b6",
   "metadata": {},
   "source": [
    "## Dataset Used in This Assignment\n",
    "\n",
    "The dataset used in this assignment is based on the following publicly available source:  \n",
    "[https://www.kaggle.com/promptcloud/jobs-on-naukricom](https://www.kaggle.com/promptcloud/jobs-on-naukricom)\n",
    "\n",
    "This dataset is distributed under a **Public Domain license**.\n",
    "\n",
    "> Note: A modified subset of the original dataset is used for this assignment. To ensure compatibility with the lab instructions, please use the dataset provided within the course resources rather than downloading it directly from the original source.\n",
    "\n",
    "The original file format was a CSV. For the purposes of this lab, it has been converted to JSON to support the API-based data retrieval workflow.\n"
   ]
  },
  {
   "cell_type": "markdown",
   "id": "199ba4b8-9736-4aa9-847d-804ad3590cd1",
   "metadata": {},
   "source": [
    "## Collecting Job Postings Using the Jobs API\n",
    "\n",
    "This section focuses on retrieving job posting counts for selected technologies and geographic locations using the mock Jobs API.\n",
    "\n",
    "The objective is to determine the current number of open positions across key U.S. cities, providing a foundational understanding of location-based demand in the tech job market.\n",
    "\n",
    "### Target Locations:\n",
    "- Los Angeles  \n",
    "- New York  \n",
    "- San Francisco  \n",
    "- Washington, D.C.  \n",
    "- Seattle  \n",
    "- Austin  \n",
    "- Detroit\n",
    "\n",
    "Data for each location will be retrieved through API calls and parsed for use in downstream analysis.\n"
   ]
  },
  {
   "cell_type": "code",
   "execution_count": 3,
   "id": "7c686c08-f80c-4d15-9eb3-a426b7787a04",
   "metadata": {},
   "outputs": [],
   "source": [
    "#Import dependencies\n",
    "import pandas as pd\n",
    "import json"
   ]
  },
  {
   "cell_type": "markdown",
   "id": "a645229b-90a6-4b56-9027-7850a5770036",
   "metadata": {},
   "source": [
    "## Function to Retrieve Job Postings by Technology\n",
    "\n",
    "We’ll write a function that filters the job data by technology so we can quickly get the number of job postings for skills like Python.\n",
    "\n",
    "The JSON dataset includes key fields such as:\n",
    "\n",
    "- Job Title  \n",
    "- Key Skills  \n",
    "- Experience Required  \n",
    "- Location  \n",
    "- Industry  \n",
    "- Role  \n",
    "\n",
    "You can view the dataset structure here:  \n",
    "[jobs.json](https://cf-courses-data.s3.us.cloud-object-storage.appdomain.cloud/IBM-DA0321EN-SkillsNetwork/labs/module%201/Accessing%20Data%20Using%20APIs/jobs.json)\n"
   ]
  },
  {
   "cell_type": "code",
   "execution_count": 20,
   "id": "25b9b8cb-5cd2-4f66-b41b-bb09d5712f0b",
   "metadata": {},
   "outputs": [],
   "source": [
    "api_url = \"https://cf-courses-data.s3.us.cloud-object-storage.appdomain.cloud/IBM-DA0321EN-SkillsNetwork/labs/module%201/Accessing%20Data%20Using%20APIs/jobs.json\"\n",
    "import requests\n",
    "\n",
    "def get_number_of_jobs_T(technology):\n",
    "    response_api = requests.get(api_url)\n",
    "    number_of_jobs = 0\n",
    "\n",
    "    if response_api.ok:\n",
    "        jobs = response_api.json()\n",
    "        for job in jobs:\n",
    "            key = job.get(\"Key Skills\", \"\")\n",
    "            if technology.lower() in key.lower():\n",
    "                number_of_jobs += 1\n",
    "\n",
    "    return technology, number_of_jobs\n"
   ]
  },
  {
   "cell_type": "markdown",
   "id": "912dad19-9299-49da-8708-1bbbe522933b",
   "metadata": {},
   "source": [
    "## Testing the Function with Python as the Target Skill\n",
    "\n",
    "We'll now run the function using \"Python\" as the input to confirm it's working as expected and returning the correct job count.\n"
   ]
  },
  {
   "cell_type": "code",
   "execution_count": 21,
   "id": "1b8ba25b-5469-46fb-b9b6-543ff2a41dae",
   "metadata": {},
   "outputs": [
    {
     "data": {
      "text/plain": [
       "('Python', 1173)"
      ]
     },
     "execution_count": 21,
     "metadata": {},
     "output_type": "execute_result"
    }
   ],
   "source": [
    "get_number_of_jobs_T(\"Python\")"
   ]
  },
  {
   "cell_type": "markdown",
   "id": "47354113-1e7d-4862-973e-f16feedfb5a6",
   "metadata": {},
   "source": [
    "## Creating a Function to Retrieve Job Counts by Location\n",
    "\n",
    "Next, we’ll define a function that returns the number of job postings for a given U.S. location.\n"
   ]
  },
  {
   "cell_type": "code",
   "execution_count": 26,
   "id": "0b3facfb-1935-4fb4-b211-8b7d0f9f2dcc",
   "metadata": {},
   "outputs": [],
   "source": [
    "def get_number_of_jobs_L(location):\n",
    "    \n",
    "    response_api = requests.get(api_url)\n",
    "\n",
    "    number_of_jobs = 0\n",
    "\n",
    "    if response_api.ok:            \n",
    "        jobs = response_api.json()\n",
    "\n",
    "    for job in jobs:\n",
    "        loc = job.get('Location')\n",
    "\n",
    "        if loc.find(location) > -1 :\n",
    "            number_of_jobs = number_of_jobs + 1\n",
    "\n",
    "    number_of_jobs\n",
    "    return location,number_of_jobs\n",
    "                "
   ]
  },
  {
   "cell_type": "markdown",
   "id": "c3d1645e-b593-4131-bfe6-30f2b3716ed9",
   "metadata": {},
   "source": [
    "Calling the function for Los Angeles to check if it's working as expected.\n"
   ]
  },
  {
   "cell_type": "code",
   "execution_count": 27,
   "id": "7efbfc75-8a9f-45be-8ca1-c34c7d37fb00",
   "metadata": {},
   "outputs": [
    {
     "data": {
      "text/plain": [
       "('Los Angels', 0)"
      ]
     },
     "execution_count": 27,
     "metadata": {},
     "output_type": "execute_result"
    }
   ],
   "source": [
    "get_number_of_jobs_L(\"Los Angels\")"
   ]
  },
  {
   "cell_type": "markdown",
   "id": "8e336191-3dff-4a3c-969e-cc8cae4a7170",
   "metadata": {},
   "source": [
    "## Storing the Results in an Excel File\n",
    "\n",
    "We’ll call the API for all specified technologies and export the job counts to an Excel spreadsheet.\n"
   ]
  },
  {
   "cell_type": "markdown",
   "id": "359057b9-2733-4e8d-919c-f417e8ebffa0",
   "metadata": {},
   "source": [
    "Define a list of technologies to analyze job demand across the market.\n"
   ]
  },
  {
   "cell_type": "code",
   "execution_count": 36,
   "id": "a420ff26-78f3-47cf-9313-e34125c82070",
   "metadata": {},
   "outputs": [],
   "source": [
    "def get_number_of_jobs_L(location):\n",
    "    response = requests.get(api_url)\n",
    "\n",
    "    if response.ok:\n",
    "        jobs_data = response.json()\n",
    "    else:\n",
    "        print(\"Failed to fetch data\")\n",
    "        return []  \n",
    "\n",
    "    technologies = []\n",
    "\n",
    "    for job in jobs_data:\n",
    "        if job.get('Location', '').lower() == location.lower(): \n",
    "            skills = job.get('Key Skills', '')\n",
    "            tech_list = [skill.strip() for skill in skills.split(',') if skill.strip()]\n",
    "            technologies.extend(tech_list)\n",
    "\n",
    "    unique_technologies = sorted(set(technologies))\n",
    "\n",
    "    print(f\"Technologies found in location '{location}':\")\n",
    "    print(unique_technologies)\n",
    "\n",
    "    return unique_technologies\n",
    "\n"
   ]
  },
  {
   "cell_type": "markdown",
   "id": "00b2260c-81d7-463c-813d-f896f5db7bfc",
   "metadata": {},
   "source": [
    "Import libraries required for writing the results to an Excel file.\n"
   ]
  },
  {
   "cell_type": "code",
   "execution_count": 37,
   "id": "41bcf0e1-7473-481e-af09-d61e03f4bba4",
   "metadata": {},
   "outputs": [],
   "source": [
    "from openpyxl import Workbook"
   ]
  },
  {
   "cell_type": "markdown",
   "id": "9ca0fde1-0628-44a9-b5b6-8c8060a57bee",
   "metadata": {},
   "source": [
    "Create a new Excel workbook and activate the default worksheet.\n"
   ]
  },
  {
   "cell_type": "code",
   "execution_count": 38,
   "id": "f17a6f44-2a3e-4fa1-882d-34230e73aa3b",
   "metadata": {},
   "outputs": [],
   "source": [
    "wb1 = Workbook()\n",
    "ws1 = wb1.active"
   ]
  },
  {
   "cell_type": "markdown",
   "id": "882eec5e-8f6d-48d3-8120-9fd3837ccf37",
   "metadata": {},
   "source": [
    "## Retrieving Job Counts and Writing to Excel\n",
    "\n",
    "Loop through each technology, get the number of job postings, and write the results to the spreadsheet.\n"
   ]
  },
  {
   "cell_type": "code",
   "execution_count": 46,
   "id": "2d310874-49dd-4736-a45c-dfd351efa084",
   "metadata": {},
   "outputs": [],
   "source": [
    "unique_technologies = sorted(set(technologies)) \n",
    "\n",
    "ws1.append(['Key Skills', 'Number of Jobs'])\n",
    "\n",
    "for i in range(len(unique_technologies)):\n",
    "    tech = unique_technologies[i]\n",
    "    count = 0\n",
    "    for job in jobs_data:\n",
    "        if tech.lower() in job.get('Key Skills', '').lower():\n",
    "            count += 1\n",
    "    ws1.append([tech, count])"
   ]
  },
  {
   "cell_type": "markdown",
   "id": "06114834-3837-4cb8-927d-61fa8a1eada6",
   "metadata": {},
   "source": [
    "Save the results to an Excel file named `job-postings.xlsx`.\n"
   ]
  },
  {
   "cell_type": "code",
   "execution_count": 43,
   "id": "c68a2743-9824-4ed9-bff6-40139c2a61f9",
   "metadata": {},
   "outputs": [],
   "source": [
    "wb1.save('2.a-job-postings (Collected from API).xlsx')\n",
    "wb1.close()"
   ]
  },
  {
   "cell_type": "markdown",
   "id": "24fc69be-1a8a-40c6-b1c5-0732401ead5b",
   "metadata": {},
   "source": [
    "## Extending the Analysis to Additional Technologies\n",
    "\n",
    "Use the same approach to retrieve job counts for the following languages and store the results in an Excel sheet:\n"
   ]
  },
  {
   "cell_type": "markdown",
   "id": "b32e61ef-9bd5-4dcb-9a9b-79554deca4d9",
   "metadata": {},
   "source": [
    "- C  \n",
    "- C#  \n",
    "- C++  \n",
    "- Java  \n",
    "- JavaScript  \n",
    "- Python  \n",
    "- Scala  \n",
    "- Oracle  \n",
    "- SQL Server  \n",
    "- MySQL Server  \n",
    "- PostgreSQL  \n",
    "- MongoDB  \n"
   ]
  },
  {
   "cell_type": "code",
   "execution_count": 45,
   "id": "dd21b4f9-c32c-4e76-80da-b0b8d0a11eb3",
   "metadata": {},
   "outputs": [],
   "source": [
    "wb2 = Workbook()\n",
    "ws2 = wb2.active\n",
    "\n",
    "languages = ['C','C#','C++','Java','JavaScript','Python','Scala','Oracle','SQL Server','MySQL Server','PostgreSQL','MongoDB']\n",
    "\n",
    "ws2.append(['Languages','Number of Jobs'])\n",
    "\n",
    "for i in range(len(languages)):\n",
    "    ws2.append(get_number_of_jobs_T(languages[i]))\n",
    "\n",
    "wb2.save('2.a-job-postings-languages (Collected from API).xlsx')\n",
    "wb2.close()"
   ]
  },
  {
   "cell_type": "markdown",
   "id": "92edc6ee-a157-4f83-946f-963bf6ea5082",
   "metadata": {},
   "source": [
    "---"
   ]
  },
  {
   "cell_type": "code",
   "execution_count": null,
   "id": "f4eb84f7-9562-42b9-8e16-d5dda57fcf92",
   "metadata": {},
   "outputs": [],
   "source": []
  }
 ],
 "metadata": {
  "kernelspec": {
   "display_name": "Python 3 (ipykernel)",
   "language": "python",
   "name": "python3"
  },
  "language_info": {
   "codemirror_mode": {
    "name": "ipython",
    "version": 3
   },
   "file_extension": ".py",
   "mimetype": "text/x-python",
   "name": "python",
   "nbconvert_exporter": "python",
   "pygments_lexer": "ipython3",
   "version": "3.12.7"
  }
 },
 "nbformat": 4,
 "nbformat_minor": 5
}
