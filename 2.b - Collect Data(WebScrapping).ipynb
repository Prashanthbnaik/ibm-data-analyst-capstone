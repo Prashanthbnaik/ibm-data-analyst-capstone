{
 "cells": [
  {
   "cell_type": "markdown",
   "id": "e3b9c63e-ceec-4ba4-9665-8ec906445fbb",
   "metadata": {},
   "source": [
    "#  Collecting Data via Web Scraping using BeautifulSoup and Requests\n"
   ]
  },
  {
   "cell_type": "markdown",
   "id": "c6e7b504-43bc-471f-a74f-f2ab57f710fd",
   "metadata": {},
   "source": [
    "In this notebook, we will:\n",
    "\n",
    "- Extract job-related information from a website using web scraping  \n",
    "- Save the collected data into a CSV file for future analysis\n"
   ]
  },
  {
   "cell_type": "markdown",
   "id": "fdc1d006-c143-4fc0-b003-3948e33458c2",
   "metadata": {},
   "source": [
    "## Extract information from a web site"
   ]
  },
  {
   "cell_type": "markdown",
   "id": "b836a804-acb8-4289-b425-45f46cf71590",
   "metadata": {},
   "source": [
    "We will extract job data from the following website:\n"
   ]
  },
  {
   "cell_type": "code",
   "execution_count": 1,
   "id": "01080eed-0533-4e69-86ae-0e595b1983c4",
   "metadata": {},
   "outputs": [],
   "source": [
    "url = \"https://cf-courses-data.s3.us.cloud-object-storage.appdomain.cloud/IBM-DA0321EN-SkillsNetwork/labs/datasets/Programming_Languages.html\""
   ]
  },
  {
   "cell_type": "markdown",
   "id": "6bc7cb6c-9783-4df7-8979-80f098f0f241",
   "metadata": {},
   "source": [
    "The data we’ll scrape includes the programming language names and their average annual salaries.  \n",
    "Before writing the scraping logic, it’s a good practice to open the URL in a browser and inspect the page structure to understand where the required data is located.\n"
   ]
  },
  {
   "cell_type": "markdown",
   "id": "6c99b0f1-3709-4c86-8c05-4110e45c8df3",
   "metadata": {},
   "source": [
    "We’ll start by importing the necessary Python libraries for web scraping and data handling.\n"
   ]
  },
  {
   "cell_type": "code",
   "execution_count": 5,
   "id": "4f93a4b0-9743-4e61-a5c5-d31fcb0b8649",
   "metadata": {},
   "outputs": [],
   "source": [
    "# Import Requried Libraries\n",
    "from bs4 import BeautifulSoup\n",
    "import pandas as pd\n",
    "import requests"
   ]
  },
  {
   "cell_type": "markdown",
   "id": "d0108207-bbe1-4309-9c67-bb4bb69666bf",
   "metadata": {},
   "source": [
    "We’ll download the HTML content of the target webpage using the `requests` library to begin extracting the required data.\n"
   ]
  },
  {
   "cell_type": "code",
   "execution_count": 4,
   "id": "976e8b51-e854-4732-95d9-e19a2ff5d90d",
   "metadata": {},
   "outputs": [],
   "source": [
    "# Get the HTML content from the webpage\n",
    "data = requests.get(url).text"
   ]
  },
  {
   "cell_type": "markdown",
   "id": "8895dbf1-bdad-4cb1-ad72-013fc842ae2d",
   "metadata": {},
   "source": [
    "We’ll create a BeautifulSoup object to parse the HTML content and make it easier to navigate and extract the required data elements.\n"
   ]
  },
  {
   "cell_type": "code",
   "execution_count": 7,
   "id": "e281d8ae-fdcb-4fa4-aa50-afb0dacf6c3b",
   "metadata": {},
   "outputs": [],
   "source": [
    "soup = BeautifulSoup(data, \"html.parser\")   #Parse the HTML content"
   ]
  },
  {
   "cell_type": "markdown",
   "id": "01d666f0-3fdd-4c74-919c-29c4ae9f821c",
   "metadata": {},
   "source": [
    "We’ll scrape the `Language name` and `Annual Average Salary` from the HTML content.\n"
   ]
  },
  {
   "cell_type": "code",
   "execution_count": 10,
   "id": "55b9ad7b-f8e9-4930-a95a-b0c925c990a6",
   "metadata": {},
   "outputs": [
    {
     "data": {
      "text/plain": [
       "['Language , Average Annual Salary',\n",
       " 'Python , 114383',\n",
       " 'Java , 101013',\n",
       " 'R , 92037',\n",
       " 'Javascript , 110981',\n",
       " 'Swift , 130801',\n",
       " 'C++ , 113865',\n",
       " 'C# , 88726',\n",
       " 'PHP , 84727',\n",
       " 'SQL , 84793',\n",
       " 'Go , 94082']"
      ]
     },
     "execution_count": 10,
     "metadata": {},
     "output_type": "execute_result"
    }
   ],
   "source": [
    "# Extract language name and average salary from the table\n",
    "table = soup.find('table')\n",
    "popular_languages = []\n",
    "\n",
    "for row in table.find_all('tr'):\n",
    "\n",
    "    cols = row.find_all('td')\n",
    "    language = cols[1].getText()\n",
    "    avg_salary = cols[3].getText()\n",
    "    popular_languages.append(str(language) + ' , ' + str(avg_salary).replace('$','').replace(',',''))\n",
    "\n",
    "popular_languages"
   ]
  },
  {
   "cell_type": "markdown",
   "id": "b0ad3fd4-329d-4b11-944b-753cf8b5f75f",
   "metadata": {},
   "source": [
    "We’ll save the scraped data into a CSV file named `2.b-popular-languages(Collected from WebScraping).csv` for future use and analysis.\n"
   ]
  },
  {
   "cell_type": "code",
   "execution_count": 11,
   "id": "794a7022-5994-4d69-855a-08035c5245fe",
   "metadata": {},
   "outputs": [],
   "source": [
    "df = pd.DataFrame(popular_languages)\n",
    "df.to_csv(\"2.b-popular-languages(Collected from WebScraping\", header=False, index=False)"
   ]
  },
  {
   "cell_type": "markdown",
   "id": "3961be0a-c6fa-471e-a1dc-62231d9ffd53",
   "metadata": {},
   "source": [
    "---"
   ]
  }
 ],
 "metadata": {
  "kernelspec": {
   "display_name": "Python 3 (ipykernel)",
   "language": "python",
   "name": "python3"
  },
  "language_info": {
   "codemirror_mode": {
    "name": "ipython",
    "version": 3
   },
   "file_extension": ".py",
   "mimetype": "text/x-python",
   "name": "python",
   "nbconvert_exporter": "python",
   "pygments_lexer": "ipython3",
   "version": "3.12.7"
  }
 },
 "nbformat": 4,
 "nbformat_minor": 5
}
